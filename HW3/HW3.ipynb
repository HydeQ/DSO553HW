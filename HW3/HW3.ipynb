{
 "cells": [
  {
   "cell_type": "code",
   "execution_count": 422,
   "id": "fa8deffb",
   "metadata": {},
   "outputs": [],
   "source": [
    "import pymongo"
   ]
  },
  {
   "cell_type": "code",
   "execution_count": 423,
   "id": "02b029d0",
   "metadata": {},
   "outputs": [],
   "source": [
    "#The process to connect to the MongoDB Atlas is concealed because of the privacy\n",
    "#client = pymongo.MongoClient(<concealed>) \n",
    "db = client[\"myFirstDatabase\"]"
   ]
  },
  {
   "cell_type": "markdown",
   "id": "95ba88a9",
   "metadata": {},
   "source": [
    "## Q1"
   ]
  },
  {
   "cell_type": "code",
   "execution_count": 425,
   "id": "315c56d2",
   "metadata": {},
   "outputs": [
    {
     "data": {
      "text/plain": [
       "<pymongo.results.InsertManyResult at 0x19de16c4e00>"
      ]
     },
     "execution_count": 425,
     "metadata": {},
     "output_type": "execute_result"
    }
   ],
   "source": [
    "db.orders.insert_many( [\n",
    "{ \"_id\": 0, \"productName\": \"Steel beam\", \"status\": \"new\", \"quantity\": 10 },\n",
    "{ \"_id\": 1, \"productName\": \"Steel beam\", \"status\": \"urgent\", \"quantity\": 20 },\n",
    "{ \"_id\": 2, \"productName\": \"Steel beam\", \"status\": \"urgent\", \"quantity\": 30 },\n",
    "{ \"_id\": 3, \"productName\": \"Iron rod\", \"status\": \"new\", \"quantity\": 15 },\n",
    "{ \"_id\": 4, \"productName\": \"Iron rod\", \"status\": \"urgent\", \"quantity\": 50 },\n",
    "{ \"_id\": 5, \"productName\": \"Iron rod\", \"status\": \"urgent\", \"quantity\": 10 }\n",
    "] )\n"
   ]
  },
  {
   "cell_type": "markdown",
   "id": "ad207f9e",
   "metadata": {},
   "source": [
    "### a"
   ]
  },
  {
   "cell_type": "code",
   "execution_count": 426,
   "id": "393a6fd1",
   "metadata": {},
   "outputs": [],
   "source": [
    "pipeline =[{\"$group\":{\"_id\":'$productName',\"sumQuantity\":{\"$sum\":'$quantity'}}},\n",
    "          {\"$sort\":{'sumQuantity':-1}}]"
   ]
  },
  {
   "cell_type": "code",
   "execution_count": 427,
   "id": "df001e32",
   "metadata": {},
   "outputs": [
    {
     "name": "stdout",
     "output_type": "stream",
     "text": [
      "{'_id': 'Iron rod', 'sumQuantity': 75}\n",
      "{'_id': 'Steel beam', 'sumQuantity': 60}\n"
     ]
    }
   ],
   "source": [
    "for i in db['orders'].aggregate(pipeline):\n",
    " print(i)"
   ]
  },
  {
   "cell_type": "markdown",
   "id": "9d7c0a8a",
   "metadata": {},
   "source": [
    "There are two stages - group and sort."
   ]
  },
  {
   "cell_type": "markdown",
   "id": "a34009d1",
   "metadata": {},
   "source": [
    "### b"
   ]
  },
  {
   "cell_type": "code",
   "execution_count": 428,
   "id": "0264925d",
   "metadata": {},
   "outputs": [],
   "source": [
    "pipeline =[{\"$match\":{\"status\":{\"$eq\":\"urgent\"}}},\n",
    "           {\"$group\":{\"_id\":'$productName',\"sumQuantity\":{\"$sum\":'$quantity'}}},\n",
    "          {\"$sort\":{'sumQuantity':-1}}]"
   ]
  },
  {
   "cell_type": "code",
   "execution_count": 429,
   "id": "1a249d7d",
   "metadata": {},
   "outputs": [
    {
     "name": "stdout",
     "output_type": "stream",
     "text": [
      "{'_id': 'Iron rod', 'sumQuantity': 60}\n",
      "{'_id': 'Steel beam', 'sumQuantity': 50}\n"
     ]
    }
   ],
   "source": [
    "for i in db['orders'].aggregate(pipeline):\n",
    " print(i)"
   ]
  },
  {
   "cell_type": "markdown",
   "id": "91886f08",
   "metadata": {},
   "source": [
    "There are three stages - match, group and sort."
   ]
  },
  {
   "cell_type": "markdown",
   "id": "cbdb5eaa",
   "metadata": {},
   "source": [
    "### c"
   ]
  },
  {
   "cell_type": "code",
   "execution_count": 430,
   "id": "6b189f5a",
   "metadata": {},
   "outputs": [],
   "source": [
    "pipeline =[{\"$group\":{\"_id\":['$productName',\"$status\"],\"sumQuantity\":{\"$sum\":'$quantity'}}},\n",
    "          {\"$sort\":{\"_id\": 1}}]"
   ]
  },
  {
   "cell_type": "code",
   "execution_count": 431,
   "id": "0f31fd0a",
   "metadata": {
    "scrolled": true
   },
   "outputs": [
    {
     "name": "stdout",
     "output_type": "stream",
     "text": [
      "{'_id': ['Iron rod', 'new'], 'sumQuantity': 15}\n",
      "{'_id': ['Iron rod', 'urgent'], 'sumQuantity': 60}\n",
      "{'_id': ['Steel beam', 'new'], 'sumQuantity': 10}\n",
      "{'_id': ['Steel beam', 'urgent'], 'sumQuantity': 50}\n"
     ]
    }
   ],
   "source": [
    "for i in db['orders'].aggregate(pipeline):\n",
    " print(i)"
   ]
  },
  {
   "cell_type": "markdown",
   "id": "a1b7cc2f",
   "metadata": {},
   "source": [
    "There are two stages - group and sort."
   ]
  },
  {
   "cell_type": "markdown",
   "id": "cb8d6dd5",
   "metadata": {},
   "source": [
    "### d"
   ]
  },
  {
   "cell_type": "code",
   "execution_count": 432,
   "id": "a6326d35",
   "metadata": {},
   "outputs": [],
   "source": [
    "pipeline =[\n",
    "    {\"$group\":{\"_id\":['$productName',\"$status\"],\"name\":{\"$first\":\"$productName\"},\"status\":{\"$first\":\"$status\"},\"sumQuantity\":{\"$sum\":'$quantity'}}},\n",
    "    {\"$sort\":{\"name\":1,\"status\":-1}},\n",
    "    {\"$unset\":[\"name\",\"status\"]},\n",
    "    {\"$limit\":3}\n",
    "           ]"
   ]
  },
  {
   "cell_type": "code",
   "execution_count": 433,
   "id": "7d2fb06c",
   "metadata": {},
   "outputs": [
    {
     "name": "stdout",
     "output_type": "stream",
     "text": [
      "{'_id': ['Iron rod', 'urgent'], 'sumQuantity': 60}\n",
      "{'_id': ['Iron rod', 'new'], 'sumQuantity': 15}\n",
      "{'_id': ['Steel beam', 'urgent'], 'sumQuantity': 50}\n"
     ]
    }
   ],
   "source": [
    "for i in db['orders'].aggregate(pipeline):\n",
    "    print(i)"
   ]
  },
  {
   "cell_type": "markdown",
   "id": "47e7be10",
   "metadata": {},
   "source": [
    "There are four stages - group, sort, unset and limit."
   ]
  },
  {
   "cell_type": "markdown",
   "id": "7cfbdaff",
   "metadata": {},
   "source": [
    "## Q2"
   ]
  },
  {
   "cell_type": "code",
   "execution_count": 434,
   "id": "ae01bf92",
   "metadata": {},
   "outputs": [],
   "source": [
    "db = client[\"sample_training\"]"
   ]
  },
  {
   "cell_type": "markdown",
   "id": "7e3811c0",
   "metadata": {},
   "source": [
    "### a"
   ]
  },
  {
   "cell_type": "code",
   "execution_count": 435,
   "id": "b1debc71",
   "metadata": {},
   "outputs": [],
   "source": [
    "pipeline=[\n",
    "{\"$group\":{\"_id\":\"$class_id\"}},\n",
    "{\"$group\":{\"_id\":\"total_class\",\"count\":{\"$sum\":1}}}    \n",
    "]"
   ]
  },
  {
   "cell_type": "code",
   "execution_count": 436,
   "id": "df1bd73f",
   "metadata": {},
   "outputs": [
    {
     "name": "stdout",
     "output_type": "stream",
     "text": [
      "{'_id': 'total_class', 'count': 501}\n"
     ]
    }
   ],
   "source": [
    "for i in db['grades'].aggregate(pipeline):\n",
    "    print(i)"
   ]
  },
  {
   "cell_type": "markdown",
   "id": "52185cc9",
   "metadata": {},
   "source": [
    "There are 501 classes."
   ]
  },
  {
   "cell_type": "markdown",
   "id": "0b1f0912",
   "metadata": {},
   "source": [
    "### b"
   ]
  },
  {
   "cell_type": "code",
   "execution_count": 437,
   "id": "5f2a8b44",
   "metadata": {},
   "outputs": [],
   "source": [
    "pipeline=[\n",
    "{\"$group\":{\"_id\":\"$student_id\"}},\n",
    "{\"$group\":{\"_id\":\"total_student\",\"count\":{\"$sum\":1}}}    \n",
    "]"
   ]
  },
  {
   "cell_type": "code",
   "execution_count": 438,
   "id": "46ad95db",
   "metadata": {},
   "outputs": [
    {
     "name": "stdout",
     "output_type": "stream",
     "text": [
      "{'_id': 'total_student', 'count': 10000}\n"
     ]
    }
   ],
   "source": [
    "for i in db['grades'].aggregate(pipeline):\n",
    "    print(i)"
   ]
  },
  {
   "cell_type": "markdown",
   "id": "4dd3c046",
   "metadata": {},
   "source": [
    "There are 10000 students."
   ]
  },
  {
   "cell_type": "markdown",
   "id": "7cb1c8e2",
   "metadata": {},
   "source": [
    "### c"
   ]
  },
  {
   "cell_type": "code",
   "execution_count": 439,
   "id": "56fb1242",
   "metadata": {},
   "outputs": [],
   "source": [
    "pipeline=[\n",
    "{\"$match\":{\"class_id\":{\"$eq\":212}}},\n",
    "{\"$unwind\":\"$scores\"},\n",
    "{\"$match\":{\"scores.type\":{\"$eq\":'exam'}}},\n",
    "{\"$group\":{\"_id\":None,\"avg_exam_score\":{\"$avg\":\"$scores.score\"}}} \n",
    "]"
   ]
  },
  {
   "cell_type": "code",
   "execution_count": 440,
   "id": "57e2ab95",
   "metadata": {},
   "outputs": [
    {
     "name": "stdout",
     "output_type": "stream",
     "text": [
      "{'_id': None, 'avg_exam_score': 49.32031796981391}\n"
     ]
    }
   ],
   "source": [
    "for i in db['grades'].aggregate(pipeline):\n",
    "    print(i)"
   ]
  },
  {
   "cell_type": "markdown",
   "id": "78aabda1",
   "metadata": {},
   "source": [
    "The average exam scores of class 212 is 49.32."
   ]
  },
  {
   "cell_type": "markdown",
   "id": "8d30270a",
   "metadata": {},
   "source": [
    "### d"
   ]
  },
  {
   "cell_type": "code",
   "execution_count": 441,
   "id": "3cf2e182",
   "metadata": {},
   "outputs": [],
   "source": [
    "pipeline=[\n",
    "{\"$match\":{\"class_id\":{\"$eq\":212}}},\n",
    "{\"$unwind\":\"$scores\"},\n",
    "{\"$match\":{\"scores.type\":{\"$eq\":'exam'}}},\n",
    "{\"$group\":{\"_id\":None,\"std_exam_score\":{\"$stdDevPop\":\"$scores.score\"}}} \n",
    "]"
   ]
  },
  {
   "cell_type": "code",
   "execution_count": 442,
   "id": "25a60b4b",
   "metadata": {},
   "outputs": [
    {
     "name": "stdout",
     "output_type": "stream",
     "text": [
      "{'_id': None, 'std_exam_score': 29.280553806350348}\n"
     ]
    }
   ],
   "source": [
    "for i in db['grades'].aggregate(pipeline):\n",
    "    print(i)"
   ]
  },
  {
   "cell_type": "markdown",
   "id": "4559584b",
   "metadata": {},
   "source": [
    "The standard deviation of exam scores of class 212 is 29.28."
   ]
  }
 ],
 "metadata": {
  "kernelspec": {
   "display_name": "geo",
   "language": "python",
   "name": "geo"
  },
  "language_info": {
   "codemirror_mode": {
    "name": "ipython",
    "version": 3
   },
   "file_extension": ".py",
   "mimetype": "text/x-python",
   "name": "python",
   "nbconvert_exporter": "python",
   "pygments_lexer": "ipython3",
   "version": "3.10.0"
  }
 },
 "nbformat": 4,
 "nbformat_minor": 5
}
